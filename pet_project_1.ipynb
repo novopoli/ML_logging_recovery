{
 "cells": [
  {
   "cell_type": "code",
   "execution_count": 1,
   "id": "9348d05f-5c6f-4000-9055-d9c837b1e33a",
   "metadata": {},
   "outputs": [],
   "source": [
    "import pandas as pd\n",
    "import numpy as np"
   ]
  },
  {
   "cell_type": "markdown",
   "id": "8950dc78-2d0f-4094-8db0-66bd4838a1a4",
   "metadata": {},
   "source": [
    "## Введение"
   ]
  },
  {
   "cell_type": "markdown",
   "id": "cfde379b-ea94-48ac-a9f9-29bdb3dfe24f",
   "metadata": {},
   "source": [
    "#### Для построения геомеханической модели необходимы исходные каротажные данные, которые записываются в стволе скважины. \n",
    "#### На этих данных базируется расчет упруго-прочностных свойств и дальнейшее получение напряженно-деформированного состояния горного массива.\n",
    "#### Минимально необходимым комплексом каротажных данных является: акустические данные (продольная и поперечная волна в виде скорости или медленности), плотностной каротаж и гамма-каротаж. "
   ]
  },
  {
   "cell_type": "markdown",
   "id": "7c5a54f6-2b71-4e1e-97b0-bc0c9f47df54",
   "metadata": {},
   "source": [
    "## Проблематика"
   ]
  },
  {
   "cell_type": "markdown",
   "id": "f8b9f285-f299-4927-9e22-0a60ef692c93",
   "metadata": {},
   "source": [
    "#### Отсутствие записи поперечной волны на большинстве скважин из-за дорогостоящих исследований.\n",
    "#### В большинстве скважин при это имеется записть продольной волны и плотности, которые имеют высокую корреляцию с поперечной волной.\n",
    "#### Геомеханики вручную строят линейную регрессию на имеющихся данных и восстаналивают недостающий каротаж.\n",
    "#### Необходимо оптимизировать этот процесс и сократить время выполнения однообразной задачи восстановления."
   ]
  },
  {
   "cell_type": "markdown",
   "id": "1f0ad840-0d14-40d5-9747-69d8fe8faa1c",
   "metadata": {},
   "source": [
    "## Цель проекта: Обучить модель восстановливать поперечную волну на основе имеющихся данных по поперечной волне и плотности"
   ]
  },
  {
   "cell_type": "markdown",
   "id": "f3550318-ce34-4946-8c75-3abed478a925",
   "metadata": {},
   "source": [
    "#### Примечание: \n",
    "#### Две модели с возможностью инкрементального обучения: \n",
    "#### 1. Восстановление от продольной волны и плотности\n",
    "#### 2. Восстановление от продольной волны при отсутствии каротажа плотности"
   ]
  },
  {
   "cell_type": "markdown",
   "id": "c1e2d758-3150-45f0-b73d-7cfe36b2fff1",
   "metadata": {},
   "source": [
    "## 1. Обзор данных"
   ]
  },
  {
   "cell_type": "markdown",
   "id": "a9eebee0-a20c-4c65-a8ff-1675d24de382",
   "metadata": {},
   "source": [
    "#### Нам представлены данные для первого региона, где нужно реализовать восстановление поперечной волны на основе каротажей плотности и продольной волны для дальнейших скважин.\n",
    "#### В наличии 5 скважин, 4 из которых буду представлять тренировочный набор данных, а 1 скважина будет являться тестовой для предсказания модели.\n",
    "#### Скважины имеют 4 столбца: ..."
   ]
  },
  {
   "cell_type": "code",
   "execution_count": 6,
   "id": "9cfd9d66-6fa8-4b49-9524-4bebd8bda215",
   "metadata": {},
   "outputs": [],
   "source": [
    "region_1 = [\n",
    "    \"region_1_well_1.csv\",\n",
    "    \"region_1_well_2.csv\",\n",
    "    \"region_1_well_3.csv\",\n",
    "    \"region_1_well_4.csv\"\n",
    "]\n",
    "# Объединеные скважин в один тренировочный набор данных\n",
    "df = [pd.read_csv(file) for file in region_1]\n",
    "train = pd.concat(df, ignore_index=True)\n",
    "\n",
    "train.to_csv(\"train_region_1.csv\", index=False)\n",
    "\n",
    "# Создение тестового датасета\n",
    "test = pd.read_csv('region_1_well_5_test.csv')"
   ]
  },
  {
   "cell_type": "code",
   "execution_count": 7,
   "id": "c1354670-41a5-4c48-b3f9-5d0389caa851",
   "metadata": {},
   "outputs": [
    {
     "data": {
      "text/html": [
       "<div>\n",
       "<style scoped>\n",
       "    .dataframe tbody tr th:only-of-type {\n",
       "        vertical-align: middle;\n",
       "    }\n",
       "\n",
       "    .dataframe tbody tr th {\n",
       "        vertical-align: top;\n",
       "    }\n",
       "\n",
       "    .dataframe thead th {\n",
       "        text-align: right;\n",
       "    }\n",
       "</style>\n",
       "<table border=\"1\" class=\"dataframe\">\n",
       "  <thead>\n",
       "    <tr style=\"text-align: right;\">\n",
       "      <th></th>\n",
       "      <th>MD</th>\n",
       "      <th>DTCO</th>\n",
       "      <th>DTSM</th>\n",
       "      <th>RHOB</th>\n",
       "    </tr>\n",
       "  </thead>\n",
       "  <tbody>\n",
       "    <tr>\n",
       "      <th>0</th>\n",
       "      <td>m</td>\n",
       "      <td>us/m</td>\n",
       "      <td>us/m</td>\n",
       "      <td>g/cm3</td>\n",
       "    </tr>\n",
       "    <tr>\n",
       "      <th>1</th>\n",
       "      <td>MD</td>\n",
       "      <td>DT_full</td>\n",
       "      <td>DTS_full</td>\n",
       "      <td>RHOB_full_1</td>\n",
       "    </tr>\n",
       "    <tr>\n",
       "      <th>2</th>\n",
       "      <td>0</td>\n",
       "      <td>-999.25</td>\n",
       "      <td>-999.25</td>\n",
       "      <td>-999.25</td>\n",
       "    </tr>\n",
       "    <tr>\n",
       "      <th>3</th>\n",
       "      <td>0.1524</td>\n",
       "      <td>-999.25</td>\n",
       "      <td>-999.25</td>\n",
       "      <td>-999.25</td>\n",
       "    </tr>\n",
       "    <tr>\n",
       "      <th>4</th>\n",
       "      <td>0.3048</td>\n",
       "      <td>-999.25</td>\n",
       "      <td>-999.25</td>\n",
       "      <td>-999.25</td>\n",
       "    </tr>\n",
       "  </tbody>\n",
       "</table>\n",
       "</div>"
      ],
      "text/plain": [
       "       MD     DTCO      DTSM         RHOB\n",
       "0       m     us/m      us/m        g/cm3\n",
       "1      MD  DT_full  DTS_full  RHOB_full_1\n",
       "2       0  -999.25   -999.25      -999.25\n",
       "3  0.1524  -999.25   -999.25      -999.25\n",
       "4  0.3048  -999.25   -999.25      -999.25"
      ]
     },
     "execution_count": 7,
     "metadata": {},
     "output_type": "execute_result"
    }
   ],
   "source": [
    "train.head(5)"
   ]
  },
  {
   "cell_type": "code",
   "execution_count": 8,
   "id": "eb7a2381-1a65-47c8-91c0-3a94eb460f6d",
   "metadata": {},
   "outputs": [
    {
     "name": "stdout",
     "output_type": "stream",
     "text": [
      "<class 'pandas.core.frame.DataFrame'>\n",
      "RangeIndex: 157492 entries, 0 to 157491\n",
      "Data columns (total 4 columns):\n",
      " #   Column  Non-Null Count   Dtype \n",
      "---  ------  --------------   ----- \n",
      " 0   MD      157492 non-null  object\n",
      " 1   DTCO    157492 non-null  object\n",
      " 2   DTSM    157492 non-null  object\n",
      " 3   RHOB    118119 non-null  object\n",
      "dtypes: object(4)\n",
      "memory usage: 4.8+ MB\n"
     ]
    }
   ],
   "source": [
    "train.info()"
   ]
  },
  {
   "cell_type": "code",
   "execution_count": 9,
   "id": "1dee7a3a-58bc-4f57-a311-e05cbc36f510",
   "metadata": {},
   "outputs": [
    {
     "name": "stdout",
     "output_type": "stream",
     "text": [
      "Количество пропущенных значений:\n",
      "MD          0\n",
      "DTCO        0\n",
      "DTSM        0\n",
      "RHOB    39373\n",
      "dtype: int64\n"
     ]
    }
   ],
   "source": [
    "print(f'Количество пропущенных значений:\\n{train.isnull().sum()}')"
   ]
  },
  {
   "cell_type": "markdown",
   "id": "42b150c4-655d-403d-961d-4cdb18136a4d",
   "metadata": {},
   "source": [
    "#### Первые две строки следует удалить - это единицы измерения и названия каротажей, выгруженные из рабочих проектов\n",
    "#### Так как вы соединили несколько файлов, подобные строки лежат еще внутри датафрейма\n",
    "#### Избавимся от них при переходе к числовому типу, вставив NaN"
   ]
  },
  {
   "cell_type": "code",
   "execution_count": 11,
   "id": "66e456ed-61b0-4ecc-bf70-65c7870bbc18",
   "metadata": {},
   "outputs": [],
   "source": [
    "train = train.apply(pd.to_numeric, errors='coerce')\n",
    "test = test.apply(pd.to_numeric, errors='coerce')"
   ]
  },
  {
   "cell_type": "code",
   "execution_count": 12,
   "id": "acfa0d41-64fb-412b-bb0f-7082c0b18498",
   "metadata": {},
   "outputs": [
    {
     "name": "stdout",
     "output_type": "stream",
     "text": [
      "Количество пропущенных значений:\n",
      "MD          8\n",
      "DTCO        8\n",
      "DTSM        8\n",
      "RHOB    39379\n",
      "dtype: int64\n"
     ]
    }
   ],
   "source": [
    "print(f'Количество пропущенных значений:\\n{train.isnull().sum()}')"
   ]
  },
  {
   "cell_type": "markdown",
   "id": "24c24b60-f427-4925-9606-a69044bb756e",
   "metadata": {},
   "source": [
    "#### Удалим NaN, которые остались от названий единиц измеренеия и каротажей"
   ]
  },
  {
   "cell_type": "code",
   "execution_count": 14,
   "id": "b3331d3a-269d-4fda-bacf-33a40bc75856",
   "metadata": {},
   "outputs": [],
   "source": [
    "train = train.dropna(subset=['DTCO'])"
   ]
  },
  {
   "cell_type": "code",
   "execution_count": 15,
   "id": "13fdea38-2dcb-41b3-b1dd-859379f86d37",
   "metadata": {},
   "outputs": [
    {
     "name": "stdout",
     "output_type": "stream",
     "text": [
      "Количество пропущенных значений:\n",
      "MD          0\n",
      "DTCO        0\n",
      "DTSM        0\n",
      "RHOB    39371\n",
      "dtype: int64\n"
     ]
    }
   ],
   "source": [
    "print(f'Количество пропущенных значений:\\n{train.isnull().sum()}')"
   ]
  },
  {
   "cell_type": "markdown",
   "id": "3e9e0392-be26-426f-9a5a-8d0f149d7780",
   "metadata": {},
   "source": [
    "#### Значения -999.25 означают отсутствие каротажа на данной глубине, их следует удалить"
   ]
  },
  {
   "cell_type": "code",
   "execution_count": 17,
   "id": "5f52fc74-5ce7-49ec-8002-9602ab434d25",
   "metadata": {},
   "outputs": [],
   "source": [
    "train = train.loc[~(train == -999.25).any(axis=1)]\n",
    "test = test.loc[~(test == -999.25).any(axis=1)]"
   ]
  },
  {
   "cell_type": "markdown",
   "id": "9e35172f-251d-439d-9380-bbb7c6c8f0f9",
   "metadata": {},
   "source": [
    "#### Теперь можем удалить столбец глубины, так как в дальнейшем он нам не понадобится"
   ]
  },
  {
   "cell_type": "code",
   "execution_count": 19,
   "id": "75fcd305-da1c-459e-847a-f39ce98c7a7a",
   "metadata": {},
   "outputs": [],
   "source": [
    "train = train.drop(\"MD\", axis=1) \n",
    "test = test.drop(\"MD\", axis=1) "
   ]
  },
  {
   "cell_type": "code",
   "execution_count": 20,
   "id": "8b7ade2e-fc5d-4854-b56c-83d4839f816d",
   "metadata": {},
   "outputs": [
    {
     "name": "stdout",
     "output_type": "stream",
     "text": [
      "<class 'pandas.core.frame.DataFrame'>\n",
      "Index: 30344 entries, 9317 to 145354\n",
      "Data columns (total 3 columns):\n",
      " #   Column  Non-Null Count  Dtype  \n",
      "---  ------  --------------  -----  \n",
      " 0   DTCO    30344 non-null  float64\n",
      " 1   DTSM    30344 non-null  float64\n",
      " 2   RHOB    17193 non-null  float64\n",
      "dtypes: float64(3)\n",
      "memory usage: 948.2 KB\n"
     ]
    }
   ],
   "source": [
    "train.info()"
   ]
  },
  {
   "cell_type": "markdown",
   "id": "c8f6bce5-0d1e-43f1-abf5-316fb4939234",
   "metadata": {},
   "source": [
    "#### Видим пропущенные значения в каротаже плотности. Каротаж плотности, как и каротаж продольной волны, обладает высокой корреляцией с поперечной волной.  \n",
    "#### Заполнить средним или медианой в данном случае не получится, так как оба признака необходимы для наиболее корректного восстановления DTSM.\n",
    "#### Предлагается обучить две модели: восстановление DTSM только от DTCO и восстановление DTSM от DTCO и RHOB.\n",
    "#### В таком случае в дальнейшем человек сможет восстаналивать каротаж как при наличии одного каротажа, так и при наличии обоих каротажей. "
   ]
  },
  {
   "cell_type": "markdown",
   "id": "d6406b61-112c-4d78-9e72-1085a45102df",
   "metadata": {},
   "source": [
    "#### Разделим данные на два датасета "
   ]
  },
  {
   "cell_type": "code",
   "execution_count": 23,
   "id": "e8497a99-2e59-4bdc-8f2c-a2e4107bbda7",
   "metadata": {},
   "outputs": [],
   "source": [
    "train_dtco_rhob = train.dropna(subset=[\"RHOB\"]) # Датасет с плотностью\n",
    "train_dtco = train.drop(\"RHOB\", axis=1) # Датасет без плотности\n",
    "\n",
    "test_dtco_rhob = test.dropna(subset=[\"RHOB\"])\n",
    "test_dtco = test.drop(\"RHOB\", axis=1)"
   ]
  },
  {
   "cell_type": "markdown",
   "id": "888bf436-672b-4e2b-8302-675b2610fbe7",
   "metadata": {},
   "source": [
    "## 2. Разведочный анализ данных"
   ]
  },
  {
   "cell_type": "code",
   "execution_count": null,
   "id": "17ba6e10-d7b4-495b-be83-6965df87506b",
   "metadata": {},
   "outputs": [],
   "source": []
  }
 ],
 "metadata": {
  "kernelspec": {
   "display_name": "Python 3 (ipykernel)",
   "language": "python",
   "name": "python3"
  },
  "language_info": {
   "codemirror_mode": {
    "name": "ipython",
    "version": 3
   },
   "file_extension": ".py",
   "mimetype": "text/x-python",
   "name": "python",
   "nbconvert_exporter": "python",
   "pygments_lexer": "ipython3",
   "version": "3.12.7"
  }
 },
 "nbformat": 4,
 "nbformat_minor": 5
}
